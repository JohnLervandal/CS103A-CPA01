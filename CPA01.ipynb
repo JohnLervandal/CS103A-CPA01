{
 "cells": [
  {
   "cell_type": "markdown",
   "id": "b0dad178-3f18-44f6-aa65-bf39093577d1",
   "metadata": {},
   "source": [
    "<h1> Boxer Data Set Analysis </h1>\n",
    "\n",
    "This dataset contains information on all boxers, which includes their name, ranking, country, weight, promoter, trainer, etc\n",
    "\n",
    "Here's The Link to the Data Set: https://www.kaggle.com/mertcankarakoc/boxer-data\n",
    "\n",
    "You simply press download.\n",
    "\n",
    "My two interesting questions are:\n",
    "\n",
    "Does your weight affect your win rate?\n",
    "\n",
    "Does your country affect your weight?\n",
    "\n"
   ]
  },
  {
   "cell_type": "code",
   "execution_count": null,
   "id": "a2b5ec2b-5bc3-4fe6-a94e-bc055956780a",
   "metadata": {},
   "outputs": [],
   "source": [
    "import pandas as pd\n",
    "import numpy as np"
   ]
  },
  {
   "cell_type": "code",
   "execution_count": null,
   "id": "ac6c80e6-d811-4798-89e6-0b90fdccee37",
   "metadata": {},
   "outputs": [],
   "source": []
  }
 ],
 "metadata": {
  "kernelspec": {
   "display_name": "Python 3 (ipykernel)",
   "language": "python",
   "name": "python3"
  },
  "language_info": {
   "codemirror_mode": {
    "name": "ipython",
    "version": 3
   },
   "file_extension": ".py",
   "mimetype": "text/x-python",
   "name": "python",
   "nbconvert_exporter": "python",
   "pygments_lexer": "ipython3",
   "version": "3.10.2"
  }
 },
 "nbformat": 4,
 "nbformat_minor": 5
}
